{
  "cells": [
    {
      "cell_type": "code",
      "execution_count": null,
      "metadata": {
        "id": "HR5F9OdToJgK"
      },
      "outputs": [],
      "source": [
        "!pip install -q ultralytics\n",
        "!pip install -q supervision roboflow\n",
        "!pip install -U ultralytics"
      ]
    },
    {
      "cell_type": "code",
      "execution_count": null,
      "metadata": {
        "id": "ARp_OIteoJgM"
      },
      "outputs": [],
      "source": [
        "from roboflow import Roboflow\n",
        "rf = Roboflow(api_key=\"...\")\n",
        "project = rf.workspace(\"...\").project(\"animal-identification-obmg5\")\n",
        "dataset = project.version(2).download(\n",
        "    \"yolov8\",\n",
        "    \"./data/Animal-Identification-1\"\n",
        ")"
      ]
    },
    {
      "cell_type": "code",
      "execution_count": null,
      "metadata": {
        "id": "bd8Ls4MKoJgM"
      },
      "outputs": [],
      "source": [
        "!mkdir ./weights\n",
        "!wget -P ./weights -q https://github.com/THU-MIG/yolov10/releases/download/v1.1/yolov10n.pt\n",
        "# !wget -P ./weights -q https://github.com/THU-MIG/yolov10/releases/download/v1.1/yolov10s.pt\n",
        "# !wget -P ./weights -q https://github.com/THU-MIG/yolov10/releases/download/v1.1/yolov10m.pt\n",
        "# !wget -P ./weights -q https://github.com/THU-MIG/yolov10/releases/download/v1.1/yolov10b.pt\n",
        "# !wget -P ./weights -q https://github.com/THU-MIG/yolov10/releases/download/v1.1/yolov10x.pt\n",
        "# !wget -P ./weights -q https://github.com/THU-MIG/yolov10/releases/download/v1.1/yolov10l.pt"
      ]
    },
    {
      "cell_type": "code",
      "execution_count": null,
      "metadata": {
        "id": "LAOqM_iFwNDd"
      },
      "outputs": [],
      "source": [
        "!sed -i '$d' {dataset.location}/data.yaml\n",
        "!sed -i '$d' {dataset.location}/data.yaml\n",
        "!sed -i '$d' {dataset.location}/data.yaml\n",
        "!sed -i '$d' {dataset.location}/data.yaml\n",
        "!echo -e \"test: ../test/images\\ntrain: ../train/images\\nval: ../valid/images\" >> {dataset.location}/data.yaml"
      ]
    },
    {
      "cell_type": "code",
      "execution_count": null,
      "metadata": {
        "id": "Q7Xfj-JotW73"
      },
      "outputs": [],
      "source": [
        "!yolo task=detect mode=train epochs=30 batch=32 plots=True \\\n",
        "model=./weights/yolov10n.pt \\\n",
        "data=\"{dataset.location}/data.yaml\""
      ]
    },
    {
      "cell_type": "code",
      "execution_count": null,
      "metadata": {
        "id": "l1VsAwVmdmPz"
      },
      "outputs": [],
      "source": [
        "from google.colab import files\n",
        "files.download(\"./runs/detect/train/weights/best.pt\")\n",
        "files.download(\"./runs/detect/train/weights/last.pt\")\n",
        "!zip -r train.zip ./runs/detect/train\n",
        "files.download(\"./train.zip\")"
      ]
    }
  ],
  "metadata": {
    "accelerator": "GPU",
    "colab": {
      "gpuType": "T4",
      "provenance": []
    },
    "kernelspec": {
      "display_name": "Python 3",
      "name": "python3"
    },
    "language_info": {
      "codemirror_mode": {
        "name": "ipython",
        "version": 3
      },
      "file_extension": ".py",
      "mimetype": "text/x-python",
      "name": "python",
      "nbconvert_exporter": "python",
      "pygments_lexer": "ipython3",
      "version": "3.10.12"
    }
  },
  "nbformat": 4,
  "nbformat_minor": 0
}
